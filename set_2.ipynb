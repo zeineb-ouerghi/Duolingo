{
  "nbformat": 4,
  "nbformat_minor": 0,
  "metadata": {
    "colab": {
      "name": "set 2 ",
      "provenance": [],
      "authorship_tag": "ABX9TyOjPSryz9ETp2gmoKVNOw0v",
      "include_colab_link": true
    },
    "kernelspec": {
      "name": "python3",
      "display_name": "Python 3"
    },
    "language_info": {
      "name": "python"
    }
  },
  "cells": [
    {
      "cell_type": "markdown",
      "metadata": {
        "id": "view-in-github",
        "colab_type": "text"
      },
      "source": [
        "<a href=\"https://colab.research.google.com/github/zeineb-ouerghi/Duolingo/blob/master/set_2.ipynb\" target=\"_parent\"><img src=\"https://colab.research.google.com/assets/colab-badge.svg\" alt=\"Open In Colab\"/></a>"
      ]
    },
    {
      "cell_type": "markdown",
      "metadata": {
        "id": "Qgkhj-ik3ifo"
      },
      "source": [
        "Problem 1 : Implement Models in STAN "
      ]
    },
    {
      "cell_type": "code",
      "metadata": {
        "id": "mnt5um4n3lCI"
      },
      "source": [
        "## Importing libraries \n",
        "import numpy as np\n",
        "import scipy as sp\n",
        "from scipy import stats\n",
        "import scipy.stats as sts\n",
        "import matplotlib.pyplot as plt\n",
        "import pandas as pd \n",
        "import pystan\n",
        "%matplotlib inline"
      ],
      "execution_count": 77,
      "outputs": []
    },
    {
      "cell_type": "code",
      "metadata": {
        "colab": {
          "base_uri": "https://localhost:8080/"
        },
        "id": "nFWDtkSouUEO",
        "outputId": "fc16dcbe-4807-42c7-923d-4871e47911b4"
      },
      "source": [
        "waiting_times_day = np.loadtxt(\n",
        "    'https://course-resources.minerva.kgi.edu/uploaded_files/mke/'\n",
        "    '00124343-8397/call-center.csv')\n",
        "waiting_times_day"
      ],
      "execution_count": 78,
      "outputs": [
        {
          "output_type": "execute_result",
          "data": {
            "text/plain": [
              "array([30. ,  3.4,  3.2, ...,  3.2,  1.2,  4.6])"
            ]
          },
          "metadata": {},
          "execution_count": 78
        }
      ]
    },
    {
      "cell_type": "code",
      "metadata": {
        "colab": {
          "base_uri": "https://localhost:8080/",
          "height": 204
        },
        "id": "HlaUytmV3sBk",
        "outputId": "a444e703-c4ab-4a6a-bc80-2f822121c594"
      },
      "source": [
        "## data sets \n",
        "waiting_times = pd.read_csv('https://course-resources.minerva.kgi.edu/uploaded_files/mke/00124343-8397/call-center.csv')\n",
        "waiting_times.head()"
      ],
      "execution_count": 79,
      "outputs": [
        {
          "output_type": "execute_result",
          "data": {
            "text/html": [
              "<div>\n",
              "<style scoped>\n",
              "    .dataframe tbody tr th:only-of-type {\n",
              "        vertical-align: middle;\n",
              "    }\n",
              "\n",
              "    .dataframe tbody tr th {\n",
              "        vertical-align: top;\n",
              "    }\n",
              "\n",
              "    .dataframe thead th {\n",
              "        text-align: right;\n",
              "    }\n",
              "</style>\n",
              "<table border=\"1\" class=\"dataframe\">\n",
              "  <thead>\n",
              "    <tr style=\"text-align: right;\">\n",
              "      <th></th>\n",
              "      <th>3.0e+01</th>\n",
              "    </tr>\n",
              "  </thead>\n",
              "  <tbody>\n",
              "    <tr>\n",
              "      <th>0</th>\n",
              "      <td>3.4</td>\n",
              "    </tr>\n",
              "    <tr>\n",
              "      <th>1</th>\n",
              "      <td>3.2</td>\n",
              "    </tr>\n",
              "    <tr>\n",
              "      <th>2</th>\n",
              "      <td>2.3</td>\n",
              "    </tr>\n",
              "    <tr>\n",
              "      <th>3</th>\n",
              "      <td>22.0</td>\n",
              "    </tr>\n",
              "    <tr>\n",
              "      <th>4</th>\n",
              "      <td>24.0</td>\n",
              "    </tr>\n",
              "  </tbody>\n",
              "</table>\n",
              "</div>"
            ],
            "text/plain": [
              "   3.0e+01\n",
              "0      3.4\n",
              "1      3.2\n",
              "2      2.3\n",
              "3     22.0\n",
              "4     24.0"
            ]
          },
          "metadata": {},
          "execution_count": 79
        }
      ]
    },
    {
      "cell_type": "code",
      "metadata": {
        "id": "aQYMnoAi0Fai"
      },
      "source": [
        "#pre-proocessing the data and getting a list of waiting times for hour 13\n",
        "current_time = 0\n",
        "waiting_times_per_hour = [[] for _ in range(24)]  # Make 24 empty lists, one per hour\n",
        "for t in waiting_times_day:\n",
        "    current_hour = int(current_time // 60)\n",
        "    current_time += t\n",
        "    waiting_times_per_hour[current_hour].append(t)"
      ],
      "execution_count": 80,
      "outputs": []
    },
    {
      "cell_type": "code",
      "metadata": {
        "id": "V12YInRpzb9D",
        "colab": {
          "base_uri": "https://localhost:8080/"
        },
        "outputId": "7e1cec7d-aaf7-4a08-c158-ece558d279ff"
      },
      "source": [
        "# declaring the stan model, parameters, data\n",
        "stan_code = \"\"\"\n",
        "\n",
        "data {  \n",
        "    real<lower=0> alpha;  // Prior hyperparamater alpha\n",
        "    real<lower=0> beta;  // Prior hyperparamater beta\n",
        "    int<lower=0> N;      // Number of waiting times\n",
        "    real<lower=0> y[N];   // Length of each waiting time\n",
        "}\n",
        "\n",
        "parameters {\n",
        "    real<lower=0> lambda;   // Our posterior is supposed to be a distribution over lambda\n",
        "                              \n",
        "}\n",
        "\n",
        "\n",
        "model {\n",
        "    lambda ~ gamma(alpha, beta);  //The Prior\n",
        "    y ~ exponential(lambda);      //The Likelihood\n",
        "}\n",
        "\"\"\"\n",
        "##compiling the model \n",
        "stan_model = pystan.StanModel(model_code=stan_code)"
      ],
      "execution_count": null,
      "outputs": [
        {
          "output_type": "stream",
          "name": "stderr",
          "text": [
            "INFO:pystan:COMPILING THE C++ CODE FOR MODEL anon_model_3cf95d6d821bd92cadc82d6bf599a801 NOW.\n"
          ]
        }
      ]
    },
    {
      "cell_type": "code",
      "metadata": {
        "id": "64W74Yqzu4cd"
      },
      "source": [
        "\n",
        "stan_cc_data = {\n",
        "  'N': len(waiting_times_per_hour[13]),\n",
        "  'alpha': 1,\n",
        "  'beta': 0.25, \n",
        "  'y': waiting_times_per_hour[13]\n",
        "}"
      ],
      "execution_count": null,
      "outputs": []
    },
    {
      "cell_type": "code",
      "metadata": {
        "id": "WqSriyQ-zpVn"
      },
      "source": [
        "\n",
        "# Generate posterior samples\n",
        "results_call_center = stan_model.sampling(data=stan_cc_data)\n",
        "print(results_call_center)"
      ],
      "execution_count": null,
      "outputs": []
    },
    {
      "cell_type": "code",
      "metadata": {
        "id": "AQPpe7NUvTQf"
      },
      "source": [
        "# Print Stan summary of parameter posteriors\n",
        "posterior_samples_call_center = results_call_center.extract()\n"
      ],
      "execution_count": null,
      "outputs": []
    },
    {
      "cell_type": "code",
      "metadata": {
        "id": "5T8YuLIrIXz-"
      },
      "source": [
        "# Plot posterior histograms\n",
        "plt.hist(posterior_samples_call_center['lambda'], bins=100, density=True, edgecolor='black', alpha =1 , color='red')\n",
        "plt.title('Sampled posterior probability density for lambda')\n",
        "plt.show()\n",
        "print(\n",
        "    \"Posterior 98% confidence interval for Lambda:\",\n",
        "    np.percentile(posterior_samples_call_center['lambda'], [1, 99]))\n"
      ],
      "execution_count": null,
      "outputs": []
    },
    {
      "cell_type": "markdown",
      "metadata": {
        "id": "qwzkICi_HLKF"
      },
      "source": [
        "# **2. Normal likelihood with normal-inverse-gamma prior.**\n",
        "Results to compute:\n",
        "○ 95% posterior confidence intervals for the mean μ and variance σ of the data.\n",
        "2\n",
        "○ Take 10 samples from your posterior over μ and σ and plot the normal\n",
        "2\n",
        "distributions corresponding to them. See Task 3 in the solutions below – you should. \n",
        "produce a plot similar to the one you find there."
      ]
    },
    {
      "cell_type": "code",
      "metadata": {
        "id": "Q7RG4duQHYqj"
      },
      "source": [
        "data = np.array([3.54551763569501, 4.23799861761927, 4.72138425951628, -0.692265320368236, 3.04473513808788, 3.10721270732507, 3.42982225852764, 3.12153903971176, 3.60532628639808, 2.46561737557325, 1.64059465916131, 2.4621623937158, 2.76744495617481, 2.11580054750407, 5.14077208608354, 4.90288499104252, 1.43357579078348, 4.78997817363558, 1.93633438207439, 2.43698838097178, 3.95389148701877, 2.4242295507716, 2.90256268679023, 2.90931728045901, 0.658072819386888, 3.05946763895983, 3.42615331539605, 2.68842833004417, 2.35850130765166, 2.20014998540933, 4.73846511350084, 4.19839721414451, 2.11805510171691, -0.572742936038015, 0.389413982010623, 3.87846130744249, 1.34057656890858, 0.7235748351719, 5.11042369840174, 4.00747556696571, 3.18080956726965, 3.24677964069676, 5.1154659863626, 1.80276616697155, 0.305877679021404, -0.449168307882718, 4.63705561194774, 1.37783714058301, 4.9608149859515, 6.7764195802069, 1.75515522922399, 7.04457337435215, 0.625185284955128, 2.25130734369064, 2.19770178119255, 2.16858257249432, 6.25367644481438, 0.116081323476489, 2.06315857864341, 1.82409781471718, 5.15226741230987, 2.03408231293173, -1.12450854337596, 5.03511270642234, 2.03841989653263, 5.80911741751597, 2.31718128783245, 4.97575010580997, 3.34262752222776, -0.786983904253601, 0.777362359850013, 0.975825009321195, 3.76354577515958, 7.27215002907876, 1.35404089480189, 3.76567940257157, 3.48573993343334, 1.85976988586156, 1.93567061960716, 5.31071812003942, 2.96832987672751, 3.32378908637275, 2.61631960054551, 5.80897964052825, 4.95215217171488, 1.32036772796131, 3.79932542233371, 3.08108492766309, 2.6734110081666, -0.14251851138521, 2.48744375588965, 3.98463042123415, 6.32781680028, 4.0029172024315, 4.23210369459457, 1.71412938967325, 5.16492114963802, 2.53409673107906, 4.77346963973334, 3.34088878725551, 4.77681472750664, 3.81135755590976, 1.14054269983137, 1.42057452397702, 0.132142311125433, 7.12577254064672, 4.85422012781764, 4.15745720676399, 4.48763147363348, 1.56060322283629, 2.64821761542887, 1.26655351354548, 4.48497722937931, 4.3286302403783, 4.26157679512625, 4.0597558651364, 5.14051109132496, 2.5660348362221, 1.10764013818617, 0.386889523012303, 3.54150473246237, 3.57480214382351, 1.95150869584847, 2.70688970563118, 2.47971849820016, 6.50838037000679, 4.01511556826974, 1.11562740835344, 5.02637639472439, 4.38184491686864, 5.60423144047386, 2.40067408379298, 5.7849941378344, 2.37225791084559, 6.86031465910273, 4.09214858239736, 6.85994063692621, 3.62202415158781, -1.11220646958158, 3.73920971696866, 3.24533871512216, 1.28724203643002, 0.291152541773164, 0.368630935755111, 6.71607270510525, 5.42278455200833, 5.35188416119281, 2.305874586163, -1.85878097203032, 2.69877382351447, 4.84121860550417, 4.40973060799391, 5.04399320650774, 2.68632252661298, 6.06531610659912, 3.11881325011993, 3.45532087005125, 3.08442259840346, 4.43564424136733, 2.84252623135804, 1.50536798885106, 1.48868622407603, 2.07322837615663, 2.5476910210998, 5.66941808257884, 2.16731067416426, 2.49843958833905, 3.94586413879977, 0.316433764679541, -0.608937441815983, 2.5943436558557, 1.05516869528337, 2.1447601332725, 6.65846634141906, 2.1771555267834, 5.23953812029442, 3.53629759842647, 6.03263538017003, 3.85739159396599, 5.95093453004638, 1.12856987160476, 3.5559912886093, 2.21974864244489, 3.38471394882135, -1.90805399279409, 3.5113699258973, 4.49319955412346, 5.10507952638867, 1.08277895384184, 4.58403638422759, 1.37304994426824, 4.17566975753523, 3.36454182510378, 0.177136582644021, 2.91337423388405, 3.22796455457526, 2.80124198378441, 1.95189718582788, 3.37659263896246, -1.6463045238231])\n",
        "data\n",
        "print(len(data), \"data\")"
      ],
      "execution_count": null,
      "outputs": []
    },
    {
      "cell_type": "code",
      "metadata": {
        "id": "EsIaDlmlHYvX"
      },
      "source": [
        "# Plot a histogram of the data. Do the data look normally distributed?\n",
        "plt.figure(figsize=(12, 6))\n",
        "plt.hist(data, bins=20)\n",
        "plt.show()\n",
        "\n",
        "# Calculate the sample mean and variance of the data\n",
        "print('Data sample mean:', np.mean(data))\n",
        "print('Data sample variance:', np.var(data))"
      ],
      "execution_count": null,
      "outputs": []
    },
    {
      "cell_type": "code",
      "metadata": {
        "id": "DIl2XDD4HZEk"
      },
      "source": [
        "stan_code_normal_inverseg = \"\"\"\n",
        "\n",
        "data {  \n",
        "    real<lower=0> alpha;  // fixed prior hyperparamater alpha\n",
        "    real<lower=0> beta;  // fixed prior hyperparamater beta\n",
        "    real<lower=0> mu0;  // fixed prior hyperparamater mu\n",
        "    real<lower=0> nu0;  // fixed prior hyperparamater lambda\n",
        "    int<lower=1> N;     // number of data\n",
        "    real dat[N];         \n",
        "}\n",
        "\n",
        "parameters {\n",
        "    real mu;    // mean\n",
        "    real sigma2; // variance\n",
        "}\n",
        "\n",
        "\n",
        "model {\n",
        "    mu ~ normal(mu0, sqrt(sigma2/nu0));       //the priors for the mean and the variance\n",
        "    sigma2 ~ inv_gamma(alpha, beta);          //the normal and inverse gamma distributions\n",
        "    for(i in 1:N) {\n",
        "        dat[i] ~ normal(mu, sqrt(sigma2));    //The likelihood function\n",
        "    }\n",
        "}\n",
        "\n",
        "\"\"\"\n",
        "stan_model_normal_inverseg = pystan.StanModel(model_code=stan_code_normal_inverseg)\n"
      ],
      "execution_count": null,
      "outputs": []
    },
    {
      "cell_type": "code",
      "metadata": {
        "id": "L2LchlkkHOrx"
      },
      "source": [
        "#the prior parameters from the class work\n",
        "stan_data_normal_inverseg = {\n",
        "  'alpha': 1.12,\n",
        "  'beta': 0.4,\n",
        "  'nu0': 0.054, \n",
        "  'mu0': 0,\n",
        "  'N': len(data),\n",
        "  'dat': data\n",
        "}\n",
        "\n",
        "results_nig = stan_model_normal_inverseg.sampling(data=stan_data_normal_inverseg)\n",
        "print(results_nig)"
      ],
      "execution_count": null,
      "outputs": []
    },
    {
      "cell_type": "code",
      "metadata": {
        "id": "4IW43bzt-vjA"
      },
      "source": [
        "#Generate 10 samples from the posterior \n",
        "posterior_samples = results_nig.extract()\n",
        "num_samples = 10\n",
        "\n",
        "\n",
        "#Plot 10 normal distributions for the sampled mean and variance  from our posterior normal-inverse-gamma\n",
        "plt.figure(figsize=(12, 6))\n",
        "plot_x = np.linspace(-15, 15, 500)\n",
        "for i in range(num_samples):\n",
        "    plot_y = stats.norm.pdf(plot_x, loc=posterior_samples['mu'][i], scale=np.sqrt(posterior_samples['sigma2'][i]))\n",
        "    plt.plot(plot_x, plot_y)\n",
        "plt.title('%i samples from a normal-inverse-gamma posterior distribution' % num_samples)\n",
        "plt.show()\n",
        "\n",
        "#We print the confidence intervals \n",
        "print(\n",
        "    \"Posterior 95% confidence interval for mean x:\",\n",
        "    np.percentile(posterior_samples['mu'], [2.5, 97.5]))\n",
        "\n",
        "print(\n",
        "    \"Posterior 95% confidence interval for variance σ²:\",\n",
        "    np.percentile(posterior_samples['sigma2'], [2.5, 97.5]))"
      ],
      "execution_count": null,
      "outputs": []
    },
    {
      "cell_type": "markdown",
      "metadata": {
        "id": "DPOtA0TYHZsj"
      },
      "source": [
        "# **3. Log-normal HRTEM data. Normal likelihood log-transformed data and using a normal-inverse-gamma prior. \n",
        "Results to compute:\n",
        "● 95% posterior confidence intervals for the μ and variance σ of the log-transformed\n",
        "2\n",
        "data. (Should match results under Task 3 of the solutions.)\n",
        "● Take 10 samples from your posterior over μ and σ and plot the log-normal\n",
        "2\n",
        "distributions corresponding to them. See Task 5 in the solutions below – you should\n",
        "produce a plot similar to the one you find there, but with 10 pdfs rather than one."
      ]
    },
    {
      "cell_type": "code",
      "metadata": {
        "id": "Uk10YLFdMifw"
      },
      "source": [
        "# Load data: read the particle sizes (in nanometers) from a CSV file.\n",
        "hrtem_data = np.loadtxt('https://course-resources.minerva.kgi.edu/uploaded_files/mke/00075398-1635/hrtem.csv')\n",
        "print('%i data, min: %f, max: %f' % (len(hrtem_data), min(hrtem_data), max(hrtem_data)))"
      ],
      "execution_count": null,
      "outputs": []
    },
    {
      "cell_type": "code",
      "metadata": {
        "id": "3Y-LWeWrMED2"
      },
      "source": [
        "#plotting the histogram of the data \n",
        "plt.figure(figsize=(12,6))\n",
        "plt.hist(hrtem_data, bins=50)\n",
        "plt.title('Histogram of data set')\n",
        "plt.show()"
      ],
      "execution_count": null,
      "outputs": []
    },
    {
      "cell_type": "code",
      "metadata": {
        "id": "06LxwhAu9Qh1"
      },
      "source": [
        "#using the log_data to transform the data \n",
        "logn_data = np.log(hrtem_data)"
      ],
      "execution_count": null,
      "outputs": []
    },
    {
      "cell_type": "code",
      "metadata": {
        "id": "cYhBBgASM37_"
      },
      "source": [
        "#plotting the histogram of the  transformed data \n",
        "plt.figure(figsize=(12,6))\n",
        "plt.hist(logn_data, bins=20)\n",
        "plt.title('Histogram of data set')\n",
        "plt.show()"
      ],
      "execution_count": null,
      "outputs": []
    },
    {
      "cell_type": "code",
      "metadata": {
        "id": "mlnYaF1nKAHL"
      },
      "source": [
        "stan_code_hrtem = \"\"\"\n",
        "\n",
        "data {  \n",
        "    real<lower=0> alpha;  // fixed prior hyperparamater alpha\n",
        "    real<lower=0> beta;  // fixed prior hyperparamater beta\n",
        "    real<lower=0> mu0;  // fixed prior hyperparamater mu\n",
        "    real<lower=0> nu0;  // fixed prior hyperparamater lambda\n",
        "    int<lower=1> N;     // number of data\n",
        "    real dat[N];         \n",
        "}\n",
        "\n",
        "parameters {\n",
        "    real mu;    // mean\n",
        "    real sigma2; // variance\n",
        "}\n",
        "\n",
        "\n",
        "model {\n",
        "    mu ~ normal(mu0, sqrt(sigma2/nu0));       //the priors for the mean and the variance\n",
        "    sigma2 ~ inv_gamma(alpha, beta);          //the normal and inverse gamma distributions\n",
        "    for(i in 1:N) {\n",
        "        dat[i] ~ normal(mu, sqrt(sigma2));    //the likelihood function\n",
        "    }\n",
        "}\n",
        "\n",
        "\"\"\"\n",
        "stan_model_hrtem = pystan.StanModel(model_code=stan_code_hrtem)\n"
      ],
      "execution_count": null,
      "outputs": []
    },
    {
      "cell_type": "code",
      "metadata": {
        "id": "LzRA6TkiHZ5f"
      },
      "source": [
        "#using the values for the prior hyperparameters used in class \n",
        "stan_data_hrtem = {\n",
        "  'alpha': 9.56,\n",
        "  'beta': 23.55,\n",
        "  'nu0': 11, \n",
        "  'mu0': 2.3,\n",
        "  'N': len(logn_data),\n",
        "  'dat': logn_data\n",
        "}\n",
        "#printing the results from the sampling \n",
        "results_hrtem = stan_model_hrtem.sampling(data=stan_data_hrtem)\n",
        "print(results_hrtem)"
      ],
      "execution_count": null,
      "outputs": []
    },
    {
      "cell_type": "code",
      "metadata": {
        "id": "CgvDHwCoHaAG"
      },
      "source": [
        "\n",
        "posterior_samples_hrtem = results_hrtem.extract()\n",
        "\n",
        "#Samples of the means and variance from the posterior distribution function\n",
        "variance_samples = np.random.choice(posterior_samples_hrtem['sigma2'], num_samples)\n",
        "mean_samples = np.random.choice(posterior_samples_hrtem['mu'], num_samples)\n",
        "\n",
        "\n"
      ],
      "execution_count": null,
      "outputs": []
    },
    {
      "cell_type": "code",
      "metadata": {
        "id": "ilYqfdBQNV0o"
      },
      "source": [
        "plt.figure(figsize=(12, 6))\n",
        "plt.hist(logn_data, bins=20, density = True)\n",
        "plot_x = np.linspace(0, 30, 100)\n",
        "for i in range(num_samples): \n",
        "    plot_y = stats.lognorm.pdf(plot_x, np.sqrt(variance_samples[i]), scale=np.exp(mean_samples[i]))\n",
        "    plt.plot(plot_x, plot_y)\n",
        "plt.title('%i samples from a log-normal posterior distribution' % num_samples)\n",
        "plt.plot(plot_x, plot_y)\n",
        "plt.show()\n",
        "\n",
        "print(\n",
        "    \"Posterior 95% confidence interval for mean:\",\n",
        "    np.percentile(posterior_samples_hrtem['mu'], [2.5, 97.5]))\n",
        "\n",
        "print(\n",
        "    \"Posterior 95% confidence interval for variance:\",\n",
        "    np.percentile(posterior_samples_hrtem['sigma2'], [2.5, 97.5]))"
      ],
      "execution_count": null,
      "outputs": []
    },
    {
      "cell_type": "code",
      "metadata": {
        "id": "zWUE9wCIP3oa"
      },
      "source": [
        "##note: this is for a closer and clearer appearance of the log-normal pdf\n",
        "plt.figure(figsize=(12, 6))\n",
        "\n",
        "plot_x = np.linspace(0, 30, 100)\n",
        "for i in range(num_samples): \n",
        "    plot_y = stats.lognorm.pdf(plot_x, np.sqrt(variance_samples[i]), scale=np.exp(mean_samples[i]))\n",
        "    plt.plot(plot_x, plot_y)\n",
        "plt.title('%i samples from a log-normal posterior distribution' % num_samples)\n",
        "plt.plot(plot_x, plot_y)\n",
        "plt.show()"
      ],
      "execution_count": null,
      "outputs": []
    }
  ]
}